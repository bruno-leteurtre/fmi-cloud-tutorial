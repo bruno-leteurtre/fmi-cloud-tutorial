{
  "nbformat": 4,
  "nbformat_minor": 5,
  "metadata": {
    "colab": {
      "name": "Heater.ipynb",
      "provenance": []
    },
    "kernelspec": {
      "display_name": "Python 3",
      "language": "python",
      "name": "python3"
    },
    "language_info": {
      "codemirror_mode": {
        "name": "ipython",
        "version": 3
      },
      "file_extension": ".py",
      "mimetype": "text/x-python",
      "name": "python",
      "nbconvert_exporter": "python",
      "pygments_lexer": "ipython3",
      "version": "3.6.5"
    }
  },
  "cells": [
    {
      "cell_type": "markdown",
      "metadata": {
        "id": "endangered-bearing"
      },
      "source": [
        "## Install dependencies"
      ],
      "id": "endangered-bearing"
    },
    {
      "cell_type": "code",
      "metadata": {
        "id": "qxdVX-7uPyQ4",
        "colab": {
          "base_uri": "https://localhost:8080/"
        },
        "outputId": "3c444aa0-c45d-4cba-97da-011790ee27b1"
      },
      "source": [
        "\n"
      ],
      "id": "qxdVX-7uPyQ4",
      "execution_count": 2,
      "outputs": [
        {
          "output_type": "execute_result",
          "data": {
            "text/plain": [
              "2"
            ]
          },
          "metadata": {},
          "execution_count": 2
        }
      ]
    },
    {
      "cell_type": "markdown",
      "metadata": {
        "id": "aware-marijuana"
      },
      "source": [
        "## Download files"
      ],
      "id": "aware-marijuana"
    },
    {
      "cell_type": "code",
      "metadata": {
        "id": "UiueEhiIQbf_"
      },
      "source": [
        ""
      ],
      "id": "UiueEhiIQbf_",
      "execution_count": null,
      "outputs": []
    },
    {
      "cell_type": "markdown",
      "metadata": {
        "id": "surface-denmark"
      },
      "source": [
        "## Display text and images"
      ],
      "id": "surface-denmark"
    },
    {
      "cell_type": "markdown",
      "metadata": {
        "id": "civic-occurrence"
      },
      "source": [
        ""
      ],
      "id": "civic-occurrence"
    },
    {
      "cell_type": "markdown",
      "metadata": {
        "id": "proper-remainder"
      },
      "source": [
        "## Get information about the FMU"
      ],
      "id": "proper-remainder"
    },
    {
      "cell_type": "code",
      "metadata": {
        "id": "unexpected-passport"
      },
      "source": [
        ""
      ],
      "id": "unexpected-passport",
      "execution_count": null,
      "outputs": []
    },
    {
      "cell_type": "markdown",
      "metadata": {
        "id": "embedded-bouquet"
      },
      "source": [
        "## Simulate the FMU and plot the result"
      ],
      "id": "embedded-bouquet"
    },
    {
      "cell_type": "code",
      "metadata": {
        "id": "undefined-rebate"
      },
      "source": [
        ""
      ],
      "id": "undefined-rebate",
      "execution_count": null,
      "outputs": []
    },
    {
      "cell_type": "markdown",
      "metadata": {
        "id": "promising-wrestling"
      },
      "source": [
        "## Upload files to the notebook"
      ],
      "id": "promising-wrestling"
    },
    {
      "cell_type": "code",
      "metadata": {
        "id": "compliant-expansion"
      },
      "source": [
        ""
      ],
      "id": "compliant-expansion",
      "execution_count": null,
      "outputs": []
    },
    {
      "cell_type": "markdown",
      "metadata": {
        "id": "light-tragedy"
      },
      "source": [
        "## Download files from the notebook"
      ],
      "id": "light-tragedy"
    },
    {
      "cell_type": "code",
      "metadata": {
        "id": "plastic-audio"
      },
      "source": [
        ""
      ],
      "id": "plastic-audio",
      "execution_count": null,
      "outputs": []
    },
    {
      "cell_type": "markdown",
      "metadata": {
        "id": "excellent-barbados"
      },
      "source": [
        "## Show docstring"
      ],
      "id": "excellent-barbados"
    },
    {
      "cell_type": "code",
      "metadata": {
        "id": "looking-tragedy"
      },
      "source": [
        ""
      ],
      "id": "looking-tragedy",
      "execution_count": null,
      "outputs": []
    },
    {
      "cell_type": "markdown",
      "metadata": {
        "id": "military-beauty"
      },
      "source": [
        "## Open documentation"
      ],
      "id": "military-beauty"
    },
    {
      "cell_type": "code",
      "metadata": {
        "id": "warming-michael"
      },
      "source": [
        ""
      ],
      "id": "warming-michael",
      "execution_count": null,
      "outputs": []
    },
    {
      "cell_type": "markdown",
      "metadata": {
        "id": "earned-surgeon"
      },
      "source": [
        "## Access the source code"
      ],
      "id": "earned-surgeon"
    },
    {
      "cell_type": "code",
      "metadata": {
        "id": "alternative-basin"
      },
      "source": [
        ""
      ],
      "id": "alternative-basin",
      "execution_count": null,
      "outputs": []
    },
    {
      "cell_type": "markdown",
      "metadata": {
        "id": "sharp-courage"
      },
      "source": [
        "## Show progress of long running simulations"
      ],
      "id": "sharp-courage"
    },
    {
      "cell_type": "code",
      "metadata": {
        "id": "amino-suspect"
      },
      "source": [
        ""
      ],
      "id": "amino-suspect",
      "execution_count": null,
      "outputs": []
    },
    {
      "cell_type": "markdown",
      "metadata": {
        "id": "available-iraqi"
      },
      "source": [
        "## Move code to a library module"
      ],
      "id": "available-iraqi"
    },
    {
      "cell_type": "code",
      "metadata": {
        "id": "victorian-infection"
      },
      "source": [
        ""
      ],
      "id": "victorian-infection",
      "execution_count": null,
      "outputs": []
    },
    {
      "cell_type": "markdown",
      "metadata": {
        "id": "incorrect-archives"
      },
      "source": [
        "## Compile the platform binary from source"
      ],
      "id": "incorrect-archives"
    },
    {
      "cell_type": "code",
      "metadata": {
        "id": "personalized-switzerland"
      },
      "source": [
        ""
      ],
      "id": "personalized-switzerland",
      "execution_count": null,
      "outputs": []
    }
  ]
}